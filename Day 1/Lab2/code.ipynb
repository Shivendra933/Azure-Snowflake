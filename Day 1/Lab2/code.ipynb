{
 "cells": [
  {
   "cell_type": "code",
   "execution_count": 1,
   "id": "d21754bb",
   "metadata": {},
   "outputs": [],
   "source": [
    "import pandas as pd"
   ]
  },
  {
   "cell_type": "code",
   "execution_count": 3,
   "id": "9156b3db",
   "metadata": {},
   "outputs": [],
   "source": [
    "df = pd.read_csv(\"Salesdata.csv\")"
   ]
  },
  {
   "cell_type": "code",
   "execution_count": 6,
   "id": "9d259690",
   "metadata": {},
   "outputs": [
    {
     "data": {
      "text/html": [
       "<div>\n",
       "<style scoped>\n",
       "    .dataframe tbody tr th:only-of-type {\n",
       "        vertical-align: middle;\n",
       "    }\n",
       "\n",
       "    .dataframe tbody tr th {\n",
       "        vertical-align: top;\n",
       "    }\n",
       "\n",
       "    .dataframe thead th {\n",
       "        text-align: right;\n",
       "    }\n",
       "</style>\n",
       "<table border=\"1\" class=\"dataframe\">\n",
       "  <thead>\n",
       "    <tr style=\"text-align: right;\">\n",
       "      <th></th>\n",
       "      <th>order_id</th>\n",
       "      <th>customer_id</th>\n",
       "      <th>order_date</th>\n",
       "      <th>product</th>\n",
       "      <th>quantity</th>\n",
       "      <th>price</th>\n",
       "    </tr>\n",
       "  </thead>\n",
       "  <tbody>\n",
       "    <tr>\n",
       "      <th>0</th>\n",
       "      <td>1</td>\n",
       "      <td>101</td>\n",
       "      <td>2025-01-15</td>\n",
       "      <td>Mobile</td>\n",
       "      <td>2</td>\n",
       "      <td>500</td>\n",
       "    </tr>\n",
       "    <tr>\n",
       "      <th>1</th>\n",
       "      <td>2</td>\n",
       "      <td>102</td>\n",
       "      <td>2025-01-20</td>\n",
       "      <td>Laptop</td>\n",
       "      <td>1</td>\n",
       "      <td>1200</td>\n",
       "    </tr>\n",
       "    <tr>\n",
       "      <th>2</th>\n",
       "      <td>3</td>\n",
       "      <td>103</td>\n",
       "      <td>2025-02-05</td>\n",
       "      <td>Tablet</td>\n",
       "      <td>3</td>\n",
       "      <td>300</td>\n",
       "    </tr>\n",
       "    <tr>\n",
       "      <th>3</th>\n",
       "      <td>4</td>\n",
       "      <td>101</td>\n",
       "      <td>2025-02-08</td>\n",
       "      <td>Mobile</td>\n",
       "      <td>1</td>\n",
       "      <td>500</td>\n",
       "    </tr>\n",
       "    <tr>\n",
       "      <th>4</th>\n",
       "      <td>5</td>\n",
       "      <td>104</td>\n",
       "      <td>2025-02-10</td>\n",
       "      <td>Headphones</td>\n",
       "      <td>5</td>\n",
       "      <td>50</td>\n",
       "    </tr>\n",
       "  </tbody>\n",
       "</table>\n",
       "</div>"
      ],
      "text/plain": [
       "   order_id  customer_id  order_date     product  quantity  price\n",
       "0         1          101  2025-01-15      Mobile         2    500\n",
       "1         2          102  2025-01-20      Laptop         1   1200\n",
       "2         3          103  2025-02-05      Tablet         3    300\n",
       "3         4          101  2025-02-08      Mobile         1    500\n",
       "4         5          104  2025-02-10  Headphones         5     50"
      ]
     },
     "execution_count": 6,
     "metadata": {},
     "output_type": "execute_result"
    }
   ],
   "source": [
    "df.head(20)"
   ]
  },
  {
   "cell_type": "code",
   "execution_count": 5,
   "id": "4bd436e6",
   "metadata": {},
   "outputs": [],
   "source": [
    "#Deleting the unwanted \"Unnamed: 6 column\" and dropping the rows with NULL\n",
    "df = df.drop('Unnamed: 6', axis=1)\n",
    "df = df.dropna()"
   ]
  },
  {
   "cell_type": "code",
   "execution_count": 7,
   "id": "3c4fa5aa",
   "metadata": {},
   "outputs": [],
   "source": [
    "# Converting 'quantity' and 'price' columns to numeric\n",
    "df['quantity'] = pd.to_numeric(df['quantity'], errors='coerce')\n",
    "df['Price'] = pd.to_numeric(df['price'], errors='coerce')"
   ]
  },
  {
   "cell_type": "code",
   "execution_count": 8,
   "id": "ee887845",
   "metadata": {},
   "outputs": [
    {
     "name": "stdout",
     "output_type": "stream",
     "text": [
      "product\n",
      "Mobile        1500\n",
      "Laptop        1200\n",
      "Tablet         900\n",
      "Headphones     250\n",
      "Name: total_revenue, dtype: int64\n"
     ]
    }
   ],
   "source": [
    "# Calculate total revenue per product\n",
    "df['Revenue'] = df['quantity'] * df['price']\n",
    "revenue_per_product = df.groupby('product')['Revenue'].sum().sort_values(ascending=False)\n",
    "revenue_per_product = revenue_per_product.rename('total_revenue')\n",
    "print(revenue_per_product)"
   ]
  },
  {
   "cell_type": "code",
   "execution_count": 9,
   "id": "e3e9d8d7",
   "metadata": {},
   "outputs": [
    {
     "name": "stdout",
     "output_type": "stream",
     "text": [
      "customer_id\n",
      "101    1500\n",
      "102    1200\n",
      "103     900\n",
      "104     250\n",
      "Name: total_spending, dtype: int64\n"
     ]
    }
   ],
   "source": [
    "# Find top 5 customers by total spending\n",
    "customer_spending = df.groupby('customer_id')['Revenue'].sum().sort_values(ascending=False)\n",
    "top_5_customers = customer_spending.head(5)\n",
    "top_5_customers = top_5_customers.rename('total_spending')\n",
    "print(top_5_customers)\n"
   ]
  },
  {
   "cell_type": "code",
   "execution_count": 10,
   "id": "6c771fc2",
   "metadata": {},
   "outputs": [
    {
     "name": "stdout",
     "output_type": "stream",
     "text": [
      "order_date\n",
      "2025-01    2\n",
      "2025-02    3\n",
      "Freq: M, Name: total_orders, dtype: int64\n"
     ]
    }
   ],
   "source": [
    "# Count how many orders were placed each month\n",
    "df['order_date'] = pd.to_datetime(df['order_date'], errors='coerce')\n",
    "orders_per_month = df.groupby(df['order_date'].dt.to_period('M')).size()\n",
    "orders_per_month = orders_per_month.rename('total_orders')\n",
    "print(orders_per_month)"
   ]
  },
  {
   "cell_type": "code",
   "execution_count": 11,
   "id": "0e66617b",
   "metadata": {},
   "outputs": [],
   "source": [
    "# Output results to CSV files\n",
    "revenue_per_product.to_csv('product_revenue.csv', header=True)\n",
    "top_5_customers.to_csv('top_customers.csv', header=True)\n",
    "orders_per_month.to_csv('monthly_orders.csv', header=True)"
   ]
  }
 ],
 "metadata": {
  "kernelspec": {
   "display_name": "base",
   "language": "python",
   "name": "python3"
  },
  "language_info": {
   "codemirror_mode": {
    "name": "ipython",
    "version": 3
   },
   "file_extension": ".py",
   "mimetype": "text/x-python",
   "name": "python",
   "nbconvert_exporter": "python",
   "pygments_lexer": "ipython3",
   "version": "3.13.5"
  }
 },
 "nbformat": 4,
 "nbformat_minor": 5
}
