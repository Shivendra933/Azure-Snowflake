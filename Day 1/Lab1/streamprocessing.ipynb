{
 "cells": [
  {
   "cell_type": "code",
   "execution_count": 1,
   "id": "42b42a94",
   "metadata": {},
   "outputs": [
    {
     "name": "stdout",
     "output_type": "stream",
     "text": [
      "Listening to stream...\n",
      "Real-time order: Emma bought worth $250 at 2025-09-08 14:19:06\n",
      "Real-time order: Alice bought worth $461 at 2025-09-08 14:19:11\n",
      "Real-time order: Bob bought worth $446 at 2025-09-08 14:19:16\n",
      "Real-time order: Frank bought worth $288 at 2025-09-08 14:19:21\n"
     ]
    },
    {
     "ename": "KeyboardInterrupt",
     "evalue": "",
     "output_type": "error",
     "traceback": [
      "\u001b[0;31m---------------------------------------------------------------------------\u001b[0m",
      "\u001b[0;31mKeyboardInterrupt\u001b[0m                         Traceback (most recent call last)",
      "Cell \u001b[0;32mIn[1], line 15\u001b[0m\n\u001b[1;32m     12\u001b[0m             \u001b[38;5;28;01myield\u001b[39;00m line\u001b[38;5;241m.\u001b[39mstrip()\n\u001b[1;32m     14\u001b[0m \u001b[38;5;28mprint\u001b[39m(\u001b[38;5;124m\"\u001b[39m\u001b[38;5;124mListening to stream...\u001b[39m\u001b[38;5;124m\"\u001b[39m)\n\u001b[0;32m---> 15\u001b[0m \u001b[38;5;28;01mfor\u001b[39;00m order \u001b[38;5;129;01min\u001b[39;00m read_stream():\n\u001b[1;32m     16\u001b[0m     order_id, ts, cust, amt \u001b[38;5;241m=\u001b[39m order\u001b[38;5;241m.\u001b[39msplit(\u001b[38;5;124m\"\u001b[39m\u001b[38;5;124m,\u001b[39m\u001b[38;5;124m\"\u001b[39m)\n\u001b[1;32m     17\u001b[0m     \u001b[38;5;28mprint\u001b[39m(\u001b[38;5;124mf\u001b[39m\u001b[38;5;124m\"\u001b[39m\u001b[38;5;124mReal-time order: \u001b[39m\u001b[38;5;132;01m{\u001b[39;00mcust\u001b[38;5;132;01m}\u001b[39;00m\u001b[38;5;124m bought worth $\u001b[39m\u001b[38;5;132;01m{\u001b[39;00mamt\u001b[38;5;132;01m}\u001b[39;00m\u001b[38;5;124m at \u001b[39m\u001b[38;5;132;01m{\u001b[39;00mts\u001b[38;5;132;01m}\u001b[39;00m\u001b[38;5;124m\"\u001b[39m)\n",
      "Cell \u001b[0;32mIn[1], line 10\u001b[0m, in \u001b[0;36mread_stream\u001b[0;34m(filename)\u001b[0m\n\u001b[1;32m      8\u001b[0m line \u001b[38;5;241m=\u001b[39m f\u001b[38;5;241m.\u001b[39mreadline()\n\u001b[1;32m      9\u001b[0m \u001b[38;5;28;01mif\u001b[39;00m \u001b[38;5;129;01mnot\u001b[39;00m line:\n\u001b[0;32m---> 10\u001b[0m     time\u001b[38;5;241m.\u001b[39msleep(\u001b[38;5;241m1\u001b[39m)  \u001b[38;5;66;03m# wait for new data\u001b[39;00m\n\u001b[1;32m     11\u001b[0m     \u001b[38;5;28;01mcontinue\u001b[39;00m\n\u001b[1;32m     12\u001b[0m \u001b[38;5;28;01myield\u001b[39;00m line\u001b[38;5;241m.\u001b[39mstrip()\n",
      "\u001b[0;31mKeyboardInterrupt\u001b[0m: "
     ]
    }
   ],
   "source": [
    "import time\n",
    "\n",
    "def read_stream(filename=\"stream_orders.txt\"):\n",
    "    with open(filename, \"r\") as f:\n",
    "        # move to end of file\n",
    "        f.seek(0,2)\n",
    "        while True:\n",
    "            line = f.readline()\n",
    "            if not line:\n",
    "                time.sleep(1)  # wait for new data\n",
    "                continue\n",
    "            yield line.strip()\n",
    "\n",
    "print(\"Listening to stream...\")\n",
    "for order in read_stream():\n",
    "    order_id, ts, cust, amt = order.split(\",\")\n",
    "    print(f\"Real-time order: {cust} bought worth ${amt} at {ts}\")\n"
   ]
  }
 ],
 "metadata": {
  "kernelspec": {
   "display_name": "base",
   "language": "python",
   "name": "python3"
  },
  "language_info": {
   "codemirror_mode": {
    "name": "ipython",
    "version": 3
   },
   "file_extension": ".py",
   "mimetype": "text/x-python",
   "name": "python",
   "nbconvert_exporter": "python",
   "pygments_lexer": "ipython3",
   "version": "3.13.5"
  }
 },
 "nbformat": 4,
 "nbformat_minor": 5
}
