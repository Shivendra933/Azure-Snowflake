{
 "cells": [
  {
   "cell_type": "code",
   "execution_count": 1,
   "id": "81671db7",
   "metadata": {},
   "outputs": [],
   "source": [
    "import pandas as pd\n",
    "import random\n",
    "from datetime import datetime, timedelta"
   ]
  },
  {
   "cell_type": "code",
   "execution_count": 2,
   "id": "1acc80dc",
   "metadata": {},
   "outputs": [
    {
     "name": "stdout",
     "output_type": "stream",
     "text": [
      "batch_orders.csv created\n"
     ]
    }
   ],
   "source": [
    "start_time = datetime(2025, 9, 1, 9, 0, 0)\n",
    "customers = [\"Alice\",\"Bob\",\"Charlie\",\"David\",\"Emma\",\"Frank\",\"Grace\",\"Hannah\",\"Ivy\",\"Jack\",\"Zara\"]\n",
    "\n",
    "orders = []\n",
    "for i in range(1, 101):\n",
    "    ts = start_time + timedelta(minutes=i*5)\n",
    "    cust = random.choice(customers)\n",
    "    amt = random.randint(50, 500)\n",
    "    orders.append([i, ts, cust, amt])\n",
    "\n",
    "df = pd.DataFrame(orders, columns=[\"order_id\",\"timestamp\",\"customer\",\"amount\"])\n",
    "df.to_csv(\"batch_orders.csv\", index=False)\n",
    "print(\"batch_orders.csv created\")"
   ]
  },
  {
   "cell_type": "code",
   "execution_count": 3,
   "id": "88874b16",
   "metadata": {},
   "outputs": [
    {
     "name": "stdout",
     "output_type": "stream",
     "text": [
      "First 5 rows of batch data:\n",
      "   order_id            timestamp customer  amount\n",
      "0         1  2025-09-01 09:05:00     Zara     113\n",
      "1         2  2025-09-01 09:10:00    Alice     366\n",
      "2         3  2025-09-01 09:15:00      Ivy     282\n",
      "3         4  2025-09-01 09:20:00     Zara     142\n",
      "4         5  2025-09-01 09:25:00  Charlie      51\n"
     ]
    }
   ],
   "source": [
    "batch_df = pd.read_csv(\"batch_orders.csv\")\n",
    "\n",
    "print(\"First 5 rows of batch data:\")\n",
    "print(batch_df.head())"
   ]
  },
  {
   "cell_type": "code",
   "execution_count": 4,
   "id": "f380e200",
   "metadata": {},
   "outputs": [
    {
     "name": "stdout",
     "output_type": "stream",
     "text": [
      "\n",
      "Batch total revenue: 28123\n",
      "Batch average order value: 281.23\n",
      "Orders per customer:\n",
      "customer\n",
      "Bob        14\n",
      "Zara       13\n",
      "David      13\n",
      "Frank      11\n",
      "Alice       9\n",
      "Ivy         8\n",
      "Charlie     8\n",
      "Grace       7\n",
      "Emma        7\n",
      "Jack        6\n",
      "Hannah      4\n",
      "Name: count, dtype: int64\n"
     ]
    }
   ],
   "source": [
    "# Simple analytics\n",
    "print(\"\\nBatch total revenue:\", batch_df['amount'].sum())\n",
    "print(\"Batch average order value:\", batch_df['amount'].mean())\n",
    "print(\"Orders per customer:\")\n",
    "print(batch_df['customer'].value_counts())\n"
   ]
  }
 ],
 "metadata": {
  "kernelspec": {
   "display_name": "base",
   "language": "python",
   "name": "python3"
  },
  "language_info": {
   "codemirror_mode": {
    "name": "ipython",
    "version": 3
   },
   "file_extension": ".py",
   "mimetype": "text/x-python",
   "name": "python",
   "nbconvert_exporter": "python",
   "pygments_lexer": "ipython3",
   "version": "3.13.5"
  }
 },
 "nbformat": 4,
 "nbformat_minor": 5
}
